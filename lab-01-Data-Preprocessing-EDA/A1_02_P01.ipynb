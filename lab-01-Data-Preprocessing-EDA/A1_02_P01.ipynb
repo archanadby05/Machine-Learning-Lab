{
  "cells": [
    {
      "cell_type": "markdown",
      "metadata": {
        "id": "view-in-github",
        "colab_type": "text"
      },
      "source": [
        "<a href=\"https://colab.research.google.com/github/archanadby05/Machine-Learning-Lab/blob/master/lab-01-Data-Preprocessing-EDA/A1_02_P01.ipynb\" target=\"_parent\"><img src=\"https://colab.research.google.com/assets/colab-badge.svg\" alt=\"Open In Colab\"/></a>"
      ]
    },
    {
      "cell_type": "markdown",
      "id": "d78a544d-a2ff-4457-b697-320703c3b6db",
      "metadata": {
        "id": "d78a544d-a2ff-4457-b697-320703c3b6db"
      },
      "source": [
        "#### Name: Archana Dubey\n",
        "#### Roll no: 02\n",
        "#### Batch: A1"
      ]
    },
    {
      "cell_type": "code",
      "execution_count": null,
      "id": "38fe416e-860d-4f8f-ab6a-685d8ef378c6",
      "metadata": {
        "id": "38fe416e-860d-4f8f-ab6a-685d8ef378c6"
      },
      "outputs": [],
      "source": [
        "import pandas as pd\n",
        "import numpy as np\n",
        "import matplotlib.pyplot as plt\n",
        "import seaborn"
      ]
    },
    {
      "cell_type": "code",
      "execution_count": null,
      "id": "de1b43b6-d71d-4938-b90c-1c3f4acc1ec1",
      "metadata": {
        "id": "de1b43b6-d71d-4938-b90c-1c3f4acc1ec1"
      },
      "outputs": [],
      "source": [
        "inp = pd.read_csv(\"bank_marketing.csv\", skiprows = 2, low_memory=False)"
      ]
    },
    {
      "cell_type": "code",
      "execution_count": null,
      "id": "c31cc120-074d-4f2c-a0ec-ad541232d872",
      "metadata": {
        "id": "c31cc120-074d-4f2c-a0ec-ad541232d872",
        "outputId": "49bbd922-724b-40cd-e285-e619c58ca733"
      },
      "outputs": [
        {
          "data": {
            "text/plain": [
              "customerid      int64\n",
              "age           float64\n",
              "salary          int64\n",
              "balance         int64\n",
              "marital        object\n",
              "jobedu         object\n",
              "targeted       object\n",
              "default        object\n",
              "housing        object\n",
              "loan           object\n",
              "contact        object\n",
              "day             int64\n",
              "month          object\n",
              "duration       object\n",
              "campaign        int64\n",
              "pdays           int64\n",
              "previous        int64\n",
              "poutcome       object\n",
              "response       object\n",
              "dtype: object"
            ]
          },
          "execution_count": 4,
          "metadata": {},
          "output_type": "execute_result"
        }
      ],
      "source": [
        "inp.dtypes"
      ]
    },
    {
      "cell_type": "code",
      "execution_count": null,
      "id": "8f2cfb60-b8b2-4853-a5c6-c39034f55200",
      "metadata": {
        "id": "8f2cfb60-b8b2-4853-a5c6-c39034f55200",
        "outputId": "69a49876-5dcd-4e84-cf6c-6a05c4385b25"
      },
      "outputs": [
        {
          "data": {
            "text/html": [
              "<div>\n",
              "<style scoped>\n",
              "    .dataframe tbody tr th:only-of-type {\n",
              "        vertical-align: middle;\n",
              "    }\n",
              "\n",
              "    .dataframe tbody tr th {\n",
              "        vertical-align: top;\n",
              "    }\n",
              "\n",
              "    .dataframe thead th {\n",
              "        text-align: right;\n",
              "    }\n",
              "</style>\n",
              "<table border=\"1\" class=\"dataframe\">\n",
              "  <thead>\n",
              "    <tr style=\"text-align: right;\">\n",
              "      <th></th>\n",
              "      <th>customerid</th>\n",
              "      <th>age</th>\n",
              "      <th>salary</th>\n",
              "      <th>balance</th>\n",
              "      <th>marital</th>\n",
              "      <th>jobedu</th>\n",
              "      <th>targeted</th>\n",
              "      <th>default</th>\n",
              "      <th>housing</th>\n",
              "      <th>loan</th>\n",
              "      <th>contact</th>\n",
              "      <th>day</th>\n",
              "      <th>month</th>\n",
              "      <th>duration</th>\n",
              "      <th>campaign</th>\n",
              "      <th>pdays</th>\n",
              "      <th>previous</th>\n",
              "      <th>poutcome</th>\n",
              "      <th>response</th>\n",
              "    </tr>\n",
              "  </thead>\n",
              "  <tbody>\n",
              "    <tr>\n",
              "      <th>0</th>\n",
              "      <td>1</td>\n",
              "      <td>58.0</td>\n",
              "      <td>100000</td>\n",
              "      <td>2143</td>\n",
              "      <td>married</td>\n",
              "      <td>management,tertiary</td>\n",
              "      <td>yes</td>\n",
              "      <td>no</td>\n",
              "      <td>yes</td>\n",
              "      <td>no</td>\n",
              "      <td>unknown</td>\n",
              "      <td>5</td>\n",
              "      <td>may, 2017</td>\n",
              "      <td>261 sec</td>\n",
              "      <td>1</td>\n",
              "      <td>-1</td>\n",
              "      <td>0</td>\n",
              "      <td>unknown</td>\n",
              "      <td>no</td>\n",
              "    </tr>\n",
              "    <tr>\n",
              "      <th>1</th>\n",
              "      <td>2</td>\n",
              "      <td>44.0</td>\n",
              "      <td>60000</td>\n",
              "      <td>29</td>\n",
              "      <td>single</td>\n",
              "      <td>technician,secondary</td>\n",
              "      <td>yes</td>\n",
              "      <td>no</td>\n",
              "      <td>yes</td>\n",
              "      <td>no</td>\n",
              "      <td>unknown</td>\n",
              "      <td>5</td>\n",
              "      <td>may, 2017</td>\n",
              "      <td>151 sec</td>\n",
              "      <td>1</td>\n",
              "      <td>-1</td>\n",
              "      <td>0</td>\n",
              "      <td>unknown</td>\n",
              "      <td>no</td>\n",
              "    </tr>\n",
              "    <tr>\n",
              "      <th>2</th>\n",
              "      <td>3</td>\n",
              "      <td>33.0</td>\n",
              "      <td>120000</td>\n",
              "      <td>2</td>\n",
              "      <td>married</td>\n",
              "      <td>entrepreneur,secondary</td>\n",
              "      <td>yes</td>\n",
              "      <td>no</td>\n",
              "      <td>yes</td>\n",
              "      <td>yes</td>\n",
              "      <td>unknown</td>\n",
              "      <td>5</td>\n",
              "      <td>may, 2017</td>\n",
              "      <td>76 sec</td>\n",
              "      <td>1</td>\n",
              "      <td>-1</td>\n",
              "      <td>0</td>\n",
              "      <td>unknown</td>\n",
              "      <td>no</td>\n",
              "    </tr>\n",
              "    <tr>\n",
              "      <th>3</th>\n",
              "      <td>4</td>\n",
              "      <td>47.0</td>\n",
              "      <td>20000</td>\n",
              "      <td>1506</td>\n",
              "      <td>married</td>\n",
              "      <td>blue-collar,unknown</td>\n",
              "      <td>no</td>\n",
              "      <td>no</td>\n",
              "      <td>yes</td>\n",
              "      <td>no</td>\n",
              "      <td>unknown</td>\n",
              "      <td>5</td>\n",
              "      <td>may, 2017</td>\n",
              "      <td>92 sec</td>\n",
              "      <td>1</td>\n",
              "      <td>-1</td>\n",
              "      <td>0</td>\n",
              "      <td>unknown</td>\n",
              "      <td>no</td>\n",
              "    </tr>\n",
              "    <tr>\n",
              "      <th>4</th>\n",
              "      <td>5</td>\n",
              "      <td>33.0</td>\n",
              "      <td>0</td>\n",
              "      <td>1</td>\n",
              "      <td>single</td>\n",
              "      <td>unknown,unknown</td>\n",
              "      <td>no</td>\n",
              "      <td>no</td>\n",
              "      <td>no</td>\n",
              "      <td>no</td>\n",
              "      <td>unknown</td>\n",
              "      <td>5</td>\n",
              "      <td>may, 2017</td>\n",
              "      <td>198 sec</td>\n",
              "      <td>1</td>\n",
              "      <td>-1</td>\n",
              "      <td>0</td>\n",
              "      <td>unknown</td>\n",
              "      <td>no</td>\n",
              "    </tr>\n",
              "  </tbody>\n",
              "</table>\n",
              "</div>"
            ],
            "text/plain": [
              "   customerid   age  salary  balance  marital                  jobedu  \\\n",
              "0           1  58.0  100000     2143  married     management,tertiary   \n",
              "1           2  44.0   60000       29   single    technician,secondary   \n",
              "2           3  33.0  120000        2  married  entrepreneur,secondary   \n",
              "3           4  47.0   20000     1506  married     blue-collar,unknown   \n",
              "4           5  33.0       0        1   single         unknown,unknown   \n",
              "\n",
              "  targeted default housing loan  contact  day      month duration  campaign  \\\n",
              "0      yes      no     yes   no  unknown    5  may, 2017  261 sec         1   \n",
              "1      yes      no     yes   no  unknown    5  may, 2017  151 sec         1   \n",
              "2      yes      no     yes  yes  unknown    5  may, 2017   76 sec         1   \n",
              "3       no      no     yes   no  unknown    5  may, 2017   92 sec         1   \n",
              "4       no      no      no   no  unknown    5  may, 2017  198 sec         1   \n",
              "\n",
              "   pdays  previous poutcome response  \n",
              "0     -1         0  unknown       no  \n",
              "1     -1         0  unknown       no  \n",
              "2     -1         0  unknown       no  \n",
              "3     -1         0  unknown       no  \n",
              "4     -1         0  unknown       no  "
            ]
          },
          "execution_count": 5,
          "metadata": {},
          "output_type": "execute_result"
        }
      ],
      "source": [
        "inp.head()"
      ]
    },
    {
      "cell_type": "code",
      "execution_count": null,
      "id": "f1e54d37-86ba-43a2-a3fa-8a5997b6bb54",
      "metadata": {
        "id": "f1e54d37-86ba-43a2-a3fa-8a5997b6bb54"
      },
      "outputs": [],
      "source": [
        "inp.drop('customerid', axis=1, inplace=True)"
      ]
    },
    {
      "cell_type": "code",
      "execution_count": null,
      "id": "307319fb-ac69-44f6-97bd-27ac6dcbf262",
      "metadata": {
        "id": "307319fb-ac69-44f6-97bd-27ac6dcbf262",
        "outputId": "81020bf6-ea0b-42f1-83df-59a44c61ed83"
      },
      "outputs": [
        {
          "data": {
            "text/html": [
              "<div>\n",
              "<style scoped>\n",
              "    .dataframe tbody tr th:only-of-type {\n",
              "        vertical-align: middle;\n",
              "    }\n",
              "\n",
              "    .dataframe tbody tr th {\n",
              "        vertical-align: top;\n",
              "    }\n",
              "\n",
              "    .dataframe thead th {\n",
              "        text-align: right;\n",
              "    }\n",
              "</style>\n",
              "<table border=\"1\" class=\"dataframe\">\n",
              "  <thead>\n",
              "    <tr style=\"text-align: right;\">\n",
              "      <th></th>\n",
              "      <th>age</th>\n",
              "      <th>salary</th>\n",
              "      <th>balance</th>\n",
              "      <th>marital</th>\n",
              "      <th>jobedu</th>\n",
              "      <th>targeted</th>\n",
              "      <th>default</th>\n",
              "      <th>housing</th>\n",
              "      <th>loan</th>\n",
              "      <th>contact</th>\n",
              "      <th>day</th>\n",
              "      <th>month</th>\n",
              "      <th>duration</th>\n",
              "      <th>campaign</th>\n",
              "      <th>pdays</th>\n",
              "      <th>previous</th>\n",
              "      <th>poutcome</th>\n",
              "      <th>response</th>\n",
              "    </tr>\n",
              "  </thead>\n",
              "  <tbody>\n",
              "    <tr>\n",
              "      <th>0</th>\n",
              "      <td>58.0</td>\n",
              "      <td>100000</td>\n",
              "      <td>2143</td>\n",
              "      <td>married</td>\n",
              "      <td>management,tertiary</td>\n",
              "      <td>yes</td>\n",
              "      <td>no</td>\n",
              "      <td>yes</td>\n",
              "      <td>no</td>\n",
              "      <td>unknown</td>\n",
              "      <td>5</td>\n",
              "      <td>may, 2017</td>\n",
              "      <td>261 sec</td>\n",
              "      <td>1</td>\n",
              "      <td>-1</td>\n",
              "      <td>0</td>\n",
              "      <td>unknown</td>\n",
              "      <td>no</td>\n",
              "    </tr>\n",
              "    <tr>\n",
              "      <th>1</th>\n",
              "      <td>44.0</td>\n",
              "      <td>60000</td>\n",
              "      <td>29</td>\n",
              "      <td>single</td>\n",
              "      <td>technician,secondary</td>\n",
              "      <td>yes</td>\n",
              "      <td>no</td>\n",
              "      <td>yes</td>\n",
              "      <td>no</td>\n",
              "      <td>unknown</td>\n",
              "      <td>5</td>\n",
              "      <td>may, 2017</td>\n",
              "      <td>151 sec</td>\n",
              "      <td>1</td>\n",
              "      <td>-1</td>\n",
              "      <td>0</td>\n",
              "      <td>unknown</td>\n",
              "      <td>no</td>\n",
              "    </tr>\n",
              "    <tr>\n",
              "      <th>2</th>\n",
              "      <td>33.0</td>\n",
              "      <td>120000</td>\n",
              "      <td>2</td>\n",
              "      <td>married</td>\n",
              "      <td>entrepreneur,secondary</td>\n",
              "      <td>yes</td>\n",
              "      <td>no</td>\n",
              "      <td>yes</td>\n",
              "      <td>yes</td>\n",
              "      <td>unknown</td>\n",
              "      <td>5</td>\n",
              "      <td>may, 2017</td>\n",
              "      <td>76 sec</td>\n",
              "      <td>1</td>\n",
              "      <td>-1</td>\n",
              "      <td>0</td>\n",
              "      <td>unknown</td>\n",
              "      <td>no</td>\n",
              "    </tr>\n",
              "    <tr>\n",
              "      <th>3</th>\n",
              "      <td>47.0</td>\n",
              "      <td>20000</td>\n",
              "      <td>1506</td>\n",
              "      <td>married</td>\n",
              "      <td>blue-collar,unknown</td>\n",
              "      <td>no</td>\n",
              "      <td>no</td>\n",
              "      <td>yes</td>\n",
              "      <td>no</td>\n",
              "      <td>unknown</td>\n",
              "      <td>5</td>\n",
              "      <td>may, 2017</td>\n",
              "      <td>92 sec</td>\n",
              "      <td>1</td>\n",
              "      <td>-1</td>\n",
              "      <td>0</td>\n",
              "      <td>unknown</td>\n",
              "      <td>no</td>\n",
              "    </tr>\n",
              "    <tr>\n",
              "      <th>4</th>\n",
              "      <td>33.0</td>\n",
              "      <td>0</td>\n",
              "      <td>1</td>\n",
              "      <td>single</td>\n",
              "      <td>unknown,unknown</td>\n",
              "      <td>no</td>\n",
              "      <td>no</td>\n",
              "      <td>no</td>\n",
              "      <td>no</td>\n",
              "      <td>unknown</td>\n",
              "      <td>5</td>\n",
              "      <td>may, 2017</td>\n",
              "      <td>198 sec</td>\n",
              "      <td>1</td>\n",
              "      <td>-1</td>\n",
              "      <td>0</td>\n",
              "      <td>unknown</td>\n",
              "      <td>no</td>\n",
              "    </tr>\n",
              "  </tbody>\n",
              "</table>\n",
              "</div>"
            ],
            "text/plain": [
              "    age  salary  balance  marital                  jobedu targeted default  \\\n",
              "0  58.0  100000     2143  married     management,tertiary      yes      no   \n",
              "1  44.0   60000       29   single    technician,secondary      yes      no   \n",
              "2  33.0  120000        2  married  entrepreneur,secondary      yes      no   \n",
              "3  47.0   20000     1506  married     blue-collar,unknown       no      no   \n",
              "4  33.0       0        1   single         unknown,unknown       no      no   \n",
              "\n",
              "  housing loan  contact  day      month duration  campaign  pdays  previous  \\\n",
              "0     yes   no  unknown    5  may, 2017  261 sec         1     -1         0   \n",
              "1     yes   no  unknown    5  may, 2017  151 sec         1     -1         0   \n",
              "2     yes  yes  unknown    5  may, 2017   76 sec         1     -1         0   \n",
              "3     yes   no  unknown    5  may, 2017   92 sec         1     -1         0   \n",
              "4      no   no  unknown    5  may, 2017  198 sec         1     -1         0   \n",
              "\n",
              "  poutcome response  \n",
              "0  unknown       no  \n",
              "1  unknown       no  \n",
              "2  unknown       no  \n",
              "3  unknown       no  \n",
              "4  unknown       no  "
            ]
          },
          "execution_count": 7,
          "metadata": {},
          "output_type": "execute_result"
        }
      ],
      "source": [
        "inp.head()"
      ]
    },
    {
      "cell_type": "code",
      "execution_count": null,
      "id": "c6fc2ce5-1377-460e-9274-96de3f6acebd",
      "metadata": {
        "id": "c6fc2ce5-1377-460e-9274-96de3f6acebd"
      },
      "outputs": [],
      "source": [
        "inp['job'] = inp.jobedu.apply(lambda x: x.split(',')[0])"
      ]
    },
    {
      "cell_type": "code",
      "execution_count": null,
      "id": "26215e02-1b5f-42aa-9696-54af2a32d8b0",
      "metadata": {
        "id": "26215e02-1b5f-42aa-9696-54af2a32d8b0"
      },
      "outputs": [],
      "source": [
        "inp['edu'] = inp.jobedu.apply(lambda x: x.split(',')[1])"
      ]
    },
    {
      "cell_type": "code",
      "execution_count": null,
      "id": "d632fa42-63ce-41fc-9850-76ffd960ec0c",
      "metadata": {
        "id": "d632fa42-63ce-41fc-9850-76ffd960ec0c"
      },
      "outputs": [],
      "source": [
        "inp.drop('jobedu', axis=1, inplace=True)"
      ]
    },
    {
      "cell_type": "code",
      "execution_count": null,
      "id": "a14926d4-9a68-43a3-b5be-fdd531898222",
      "metadata": {
        "id": "a14926d4-9a68-43a3-b5be-fdd531898222",
        "outputId": "882e32ce-8a26-4fc7-8e0d-680406ceb4b5"
      },
      "outputs": [
        {
          "data": {
            "text/html": [
              "<div>\n",
              "<style scoped>\n",
              "    .dataframe tbody tr th:only-of-type {\n",
              "        vertical-align: middle;\n",
              "    }\n",
              "\n",
              "    .dataframe tbody tr th {\n",
              "        vertical-align: top;\n",
              "    }\n",
              "\n",
              "    .dataframe thead th {\n",
              "        text-align: right;\n",
              "    }\n",
              "</style>\n",
              "<table border=\"1\" class=\"dataframe\">\n",
              "  <thead>\n",
              "    <tr style=\"text-align: right;\">\n",
              "      <th></th>\n",
              "      <th>age</th>\n",
              "      <th>salary</th>\n",
              "      <th>balance</th>\n",
              "      <th>marital</th>\n",
              "      <th>targeted</th>\n",
              "      <th>default</th>\n",
              "      <th>housing</th>\n",
              "      <th>loan</th>\n",
              "      <th>contact</th>\n",
              "      <th>day</th>\n",
              "      <th>month</th>\n",
              "      <th>duration</th>\n",
              "      <th>campaign</th>\n",
              "      <th>pdays</th>\n",
              "      <th>previous</th>\n",
              "      <th>poutcome</th>\n",
              "      <th>response</th>\n",
              "      <th>job</th>\n",
              "      <th>edu</th>\n",
              "    </tr>\n",
              "  </thead>\n",
              "  <tbody>\n",
              "    <tr>\n",
              "      <th>0</th>\n",
              "      <td>58.0</td>\n",
              "      <td>100000</td>\n",
              "      <td>2143</td>\n",
              "      <td>married</td>\n",
              "      <td>yes</td>\n",
              "      <td>no</td>\n",
              "      <td>yes</td>\n",
              "      <td>no</td>\n",
              "      <td>unknown</td>\n",
              "      <td>5</td>\n",
              "      <td>may, 2017</td>\n",
              "      <td>261 sec</td>\n",
              "      <td>1</td>\n",
              "      <td>-1</td>\n",
              "      <td>0</td>\n",
              "      <td>unknown</td>\n",
              "      <td>no</td>\n",
              "      <td>management</td>\n",
              "      <td>tertiary</td>\n",
              "    </tr>\n",
              "    <tr>\n",
              "      <th>1</th>\n",
              "      <td>44.0</td>\n",
              "      <td>60000</td>\n",
              "      <td>29</td>\n",
              "      <td>single</td>\n",
              "      <td>yes</td>\n",
              "      <td>no</td>\n",
              "      <td>yes</td>\n",
              "      <td>no</td>\n",
              "      <td>unknown</td>\n",
              "      <td>5</td>\n",
              "      <td>may, 2017</td>\n",
              "      <td>151 sec</td>\n",
              "      <td>1</td>\n",
              "      <td>-1</td>\n",
              "      <td>0</td>\n",
              "      <td>unknown</td>\n",
              "      <td>no</td>\n",
              "      <td>technician</td>\n",
              "      <td>secondary</td>\n",
              "    </tr>\n",
              "    <tr>\n",
              "      <th>2</th>\n",
              "      <td>33.0</td>\n",
              "      <td>120000</td>\n",
              "      <td>2</td>\n",
              "      <td>married</td>\n",
              "      <td>yes</td>\n",
              "      <td>no</td>\n",
              "      <td>yes</td>\n",
              "      <td>yes</td>\n",
              "      <td>unknown</td>\n",
              "      <td>5</td>\n",
              "      <td>may, 2017</td>\n",
              "      <td>76 sec</td>\n",
              "      <td>1</td>\n",
              "      <td>-1</td>\n",
              "      <td>0</td>\n",
              "      <td>unknown</td>\n",
              "      <td>no</td>\n",
              "      <td>entrepreneur</td>\n",
              "      <td>secondary</td>\n",
              "    </tr>\n",
              "    <tr>\n",
              "      <th>3</th>\n",
              "      <td>47.0</td>\n",
              "      <td>20000</td>\n",
              "      <td>1506</td>\n",
              "      <td>married</td>\n",
              "      <td>no</td>\n",
              "      <td>no</td>\n",
              "      <td>yes</td>\n",
              "      <td>no</td>\n",
              "      <td>unknown</td>\n",
              "      <td>5</td>\n",
              "      <td>may, 2017</td>\n",
              "      <td>92 sec</td>\n",
              "      <td>1</td>\n",
              "      <td>-1</td>\n",
              "      <td>0</td>\n",
              "      <td>unknown</td>\n",
              "      <td>no</td>\n",
              "      <td>blue-collar</td>\n",
              "      <td>unknown</td>\n",
              "    </tr>\n",
              "    <tr>\n",
              "      <th>4</th>\n",
              "      <td>33.0</td>\n",
              "      <td>0</td>\n",
              "      <td>1</td>\n",
              "      <td>single</td>\n",
              "      <td>no</td>\n",
              "      <td>no</td>\n",
              "      <td>no</td>\n",
              "      <td>no</td>\n",
              "      <td>unknown</td>\n",
              "      <td>5</td>\n",
              "      <td>may, 2017</td>\n",
              "      <td>198 sec</td>\n",
              "      <td>1</td>\n",
              "      <td>-1</td>\n",
              "      <td>0</td>\n",
              "      <td>unknown</td>\n",
              "      <td>no</td>\n",
              "      <td>unknown</td>\n",
              "      <td>unknown</td>\n",
              "    </tr>\n",
              "  </tbody>\n",
              "</table>\n",
              "</div>"
            ],
            "text/plain": [
              "    age  salary  balance  marital targeted default housing loan  contact  day  \\\n",
              "0  58.0  100000     2143  married      yes      no     yes   no  unknown    5   \n",
              "1  44.0   60000       29   single      yes      no     yes   no  unknown    5   \n",
              "2  33.0  120000        2  married      yes      no     yes  yes  unknown    5   \n",
              "3  47.0   20000     1506  married       no      no     yes   no  unknown    5   \n",
              "4  33.0       0        1   single       no      no      no   no  unknown    5   \n",
              "\n",
              "       month duration  campaign  pdays  previous poutcome response  \\\n",
              "0  may, 2017  261 sec         1     -1         0  unknown       no   \n",
              "1  may, 2017  151 sec         1     -1         0  unknown       no   \n",
              "2  may, 2017   76 sec         1     -1         0  unknown       no   \n",
              "3  may, 2017   92 sec         1     -1         0  unknown       no   \n",
              "4  may, 2017  198 sec         1     -1         0  unknown       no   \n",
              "\n",
              "            job        edu  \n",
              "0    management   tertiary  \n",
              "1    technician  secondary  \n",
              "2  entrepreneur  secondary  \n",
              "3   blue-collar    unknown  \n",
              "4       unknown    unknown  "
            ]
          },
          "execution_count": 11,
          "metadata": {},
          "output_type": "execute_result"
        }
      ],
      "source": [
        "inp.head()"
      ]
    },
    {
      "cell_type": "code",
      "execution_count": null,
      "id": "dc47a811-a94f-4ab3-84f4-2da792220eef",
      "metadata": {
        "id": "dc47a811-a94f-4ab3-84f4-2da792220eef"
      },
      "outputs": [],
      "source": [
        "#missing values"
      ]
    },
    {
      "cell_type": "code",
      "execution_count": null,
      "id": "54820155-3748-4890-ba87-c44523ba0514",
      "metadata": {
        "id": "54820155-3748-4890-ba87-c44523ba0514"
      },
      "outputs": [],
      "source": [
        "null_counts = inp.isnull().sum()"
      ]
    },
    {
      "cell_type": "code",
      "execution_count": null,
      "id": "2427c788-57a3-463a-8008-d9b4a653abe1",
      "metadata": {
        "id": "2427c788-57a3-463a-8008-d9b4a653abe1",
        "outputId": "1671917a-4d94-4450-fc01-beb475e6cd12"
      },
      "outputs": [
        {
          "name": "stdout",
          "output_type": "stream",
          "text": [
            "age         20\n",
            "salary       0\n",
            "balance      0\n",
            "marital      0\n",
            "targeted     0\n",
            "default      0\n",
            "housing      0\n",
            "loan         0\n",
            "contact      0\n",
            "day          0\n",
            "month       50\n",
            "duration     0\n",
            "campaign     0\n",
            "pdays        0\n",
            "previous     0\n",
            "poutcome     0\n",
            "response    30\n",
            "job          0\n",
            "edu          0\n",
            "dtype: int64\n"
          ]
        }
      ],
      "source": [
        "print(null_counts)"
      ]
    },
    {
      "cell_type": "code",
      "execution_count": null,
      "id": "71f7c160-d32f-408e-a0ce-13ebec5cd3e1",
      "metadata": {
        "id": "71f7c160-d32f-408e-a0ce-13ebec5cd3e1",
        "outputId": "d41c37a7-a627-46cc-a9e0-f54bdd04e3e5"
      },
      "outputs": [
        {
          "name": "stdout",
          "output_type": "stream",
          "text": [
            "(45211, 19)\n"
          ]
        }
      ],
      "source": [
        "print(inp.shape)"
      ]
    },
    {
      "cell_type": "code",
      "execution_count": null,
      "id": "6feb8329-0216-4fac-8a72-23fd133f1589",
      "metadata": {
        "id": "6feb8329-0216-4fac-8a72-23fd133f1589",
        "outputId": "9a0fdc50-b4e8-4f4d-c9df-bc25b9c88a53"
      },
      "outputs": [
        {
          "name": "stdout",
          "output_type": "stream",
          "text": [
            "         age  salary  balance  marital  targeted  default  housing   loan  \\\n",
            "0      False   False    False    False     False    False    False  False   \n",
            "1      False   False    False    False     False    False    False  False   \n",
            "2      False   False    False    False     False    False    False  False   \n",
            "3      False   False    False    False     False    False    False  False   \n",
            "4      False   False    False    False     False    False    False  False   \n",
            "...      ...     ...      ...      ...       ...      ...      ...    ...   \n",
            "45206  False   False    False    False     False    False    False  False   \n",
            "45207  False   False    False    False     False    False    False  False   \n",
            "45208  False   False    False    False     False    False    False  False   \n",
            "45209  False   False    False    False     False    False    False  False   \n",
            "45210  False   False    False    False     False    False    False  False   \n",
            "\n",
            "       contact    day  month  duration  campaign  pdays  previous  poutcome  \\\n",
            "0        False  False  False     False     False  False     False     False   \n",
            "1        False  False  False     False     False  False     False     False   \n",
            "2        False  False  False     False     False  False     False     False   \n",
            "3        False  False  False     False     False  False     False     False   \n",
            "4        False  False  False     False     False  False     False     False   \n",
            "...        ...    ...    ...       ...       ...    ...       ...       ...   \n",
            "45206    False  False  False     False     False  False     False     False   \n",
            "45207    False  False  False     False     False  False     False     False   \n",
            "45208    False  False  False     False     False  False     False     False   \n",
            "45209    False  False  False     False     False  False     False     False   \n",
            "45210    False  False  False     False     False  False     False     False   \n",
            "\n",
            "       response    job    edu  \n",
            "0         False  False  False  \n",
            "1         False  False  False  \n",
            "2         False  False  False  \n",
            "3         False  False  False  \n",
            "4         False  False  False  \n",
            "...         ...    ...    ...  \n",
            "45206     False  False  False  \n",
            "45207     False  False  False  \n",
            "45208     False  False  False  \n",
            "45209     False  False  False  \n",
            "45210     False  False  False  \n",
            "\n",
            "[45211 rows x 19 columns]\n"
          ]
        }
      ],
      "source": [
        "print(inp.isnull())"
      ]
    },
    {
      "cell_type": "code",
      "execution_count": null,
      "id": "26437e6a-da5c-450a-9f66-a7fab8bc1f32",
      "metadata": {
        "id": "26437e6a-da5c-450a-9f66-a7fab8bc1f32",
        "outputId": "09804dc6-9439-47c4-bff4-48e377815868"
      },
      "outputs": [
        {
          "name": "stdout",
          "output_type": "stream",
          "text": [
            "0        False\n",
            "1        False\n",
            "2        False\n",
            "3        False\n",
            "4        False\n",
            "         ...  \n",
            "45206    False\n",
            "45207    False\n",
            "45208    False\n",
            "45209    False\n",
            "45210    False\n",
            "Name: month, Length: 45211, dtype: bool\n"
          ]
        }
      ],
      "source": [
        "print(inp.month.isnull())"
      ]
    },
    {
      "cell_type": "code",
      "execution_count": null,
      "id": "2332b68f-99d6-4f3e-a4e4-000d3fec1531",
      "metadata": {
        "id": "2332b68f-99d6-4f3e-a4e4-000d3fec1531",
        "outputId": "b9b919cd-3f43-499b-a6ad-73cc2b7999fe"
      },
      "outputs": [
        {
          "name": "stdout",
          "output_type": "stream",
          "text": [
            "50\n"
          ]
        }
      ],
      "source": [
        "print(inp.month.isnull().sum())"
      ]
    },
    {
      "cell_type": "code",
      "execution_count": null,
      "id": "388e13a6-dda3-42a5-855c-90d74daefcdb",
      "metadata": {
        "id": "388e13a6-dda3-42a5-855c-90d74daefcdb",
        "outputId": "3c85868f-173e-445f-ddb5-2d4672091bea"
      },
      "outputs": [
        {
          "name": "stdout",
          "output_type": "stream",
          "text": [
            "month\n",
            "may, 2017    13747\n",
            "jul, 2017     6888\n",
            "aug, 2017     6240\n",
            "jun, 2017     5335\n",
            "nov, 2017     3968\n",
            "apr, 2017     2931\n",
            "feb, 2017     2646\n",
            "jan, 2017     1402\n",
            "oct, 2017      738\n",
            "sep, 2017      576\n",
            "mar, 2017      476\n",
            "dec, 2017      214\n",
            "Name: count, dtype: int64\n"
          ]
        }
      ],
      "source": [
        "print(inp.month.value_counts())"
      ]
    },
    {
      "cell_type": "code",
      "execution_count": null,
      "id": "789aa4d2-79cd-4c5b-be9f-cf1bd8110fe2",
      "metadata": {
        "id": "789aa4d2-79cd-4c5b-be9f-cf1bd8110fe2",
        "outputId": "271bb591-1910-48cb-d16a-926cee49192b"
      },
      "outputs": [
        {
          "name": "stdout",
          "output_type": "stream",
          "text": [
            "may, 2017\n"
          ]
        }
      ],
      "source": [
        "print(inp.month.mode()[0]) #in case of a tie, we'll get error if [0] is not there"
      ]
    },
    {
      "cell_type": "code",
      "execution_count": null,
      "id": "fd3adc85-d9fe-4f2d-bb61-b633c7cb3941",
      "metadata": {
        "id": "fd3adc85-d9fe-4f2d-bb61-b633c7cb3941",
        "outputId": "7cee075f-8fb4-4253-9b92-75e90df34d1f"
      },
      "outputs": [
        {
          "name": "stdout",
          "output_type": "stream",
          "text": [
            "30\n"
          ]
        }
      ],
      "source": [
        "print(inp.response.isnull().sum())"
      ]
    },
    {
      "cell_type": "code",
      "execution_count": null,
      "id": "147b819f-a03a-4f2a-82c6-2839a7665842",
      "metadata": {
        "id": "147b819f-a03a-4f2a-82c6-2839a7665842",
        "outputId": "cfacb070-4b5a-4b87-c255-750e38ffe023"
      },
      "outputs": [
        {
          "name": "stdout",
          "output_type": "stream",
          "text": [
            "response\n",
            "no     39894\n",
            "yes     5287\n",
            "Name: count, dtype: int64\n"
          ]
        }
      ],
      "source": [
        "print(inp.response.value_counts())"
      ]
    },
    {
      "cell_type": "code",
      "execution_count": null,
      "id": "94aae0d9-d9ff-4c02-b0d8-b171a70c983d",
      "metadata": {
        "id": "94aae0d9-d9ff-4c02-b0d8-b171a70c983d"
      },
      "outputs": [],
      "source": [
        "inp.fillna({'response': 'no'}, inplace=True)"
      ]
    },
    {
      "cell_type": "code",
      "execution_count": null,
      "id": "b6aa0983-bab5-48f9-90c9-4b8f41905490",
      "metadata": {
        "id": "b6aa0983-bab5-48f9-90c9-4b8f41905490",
        "outputId": "bf654fb8-ec69-4760-dfc3-bd9eb7957be3"
      },
      "outputs": [
        {
          "name": "stdout",
          "output_type": "stream",
          "text": [
            "0\n"
          ]
        }
      ],
      "source": [
        "print(inp.response.isnull().sum())"
      ]
    },
    {
      "cell_type": "code",
      "execution_count": null,
      "id": "8b29091a-2ee4-4271-a4a3-e0e3799ab4e4",
      "metadata": {
        "id": "8b29091a-2ee4-4271-a4a3-e0e3799ab4e4",
        "outputId": "9717c1a5-93ee-4b94-b8ad-58993b2bb442"
      },
      "outputs": [
        {
          "data": {
            "text/html": [
              "<div>\n",
              "<style scoped>\n",
              "    .dataframe tbody tr th:only-of-type {\n",
              "        vertical-align: middle;\n",
              "    }\n",
              "\n",
              "    .dataframe tbody tr th {\n",
              "        vertical-align: top;\n",
              "    }\n",
              "\n",
              "    .dataframe thead th {\n",
              "        text-align: right;\n",
              "    }\n",
              "</style>\n",
              "<table border=\"1\" class=\"dataframe\">\n",
              "  <thead>\n",
              "    <tr style=\"text-align: right;\">\n",
              "      <th></th>\n",
              "      <th>age</th>\n",
              "      <th>salary</th>\n",
              "      <th>balance</th>\n",
              "      <th>day</th>\n",
              "      <th>campaign</th>\n",
              "      <th>pdays</th>\n",
              "      <th>previous</th>\n",
              "    </tr>\n",
              "  </thead>\n",
              "  <tbody>\n",
              "    <tr>\n",
              "      <th>count</th>\n",
              "      <td>45191.000000</td>\n",
              "      <td>45211.000000</td>\n",
              "      <td>45211.000000</td>\n",
              "      <td>45211.000000</td>\n",
              "      <td>45211.000000</td>\n",
              "      <td>45211.000000</td>\n",
              "      <td>45211.000000</td>\n",
              "    </tr>\n",
              "    <tr>\n",
              "      <th>mean</th>\n",
              "      <td>40.935651</td>\n",
              "      <td>57006.171065</td>\n",
              "      <td>1362.272058</td>\n",
              "      <td>15.806419</td>\n",
              "      <td>2.763841</td>\n",
              "      <td>40.197828</td>\n",
              "      <td>0.580323</td>\n",
              "    </tr>\n",
              "    <tr>\n",
              "      <th>std</th>\n",
              "      <td>10.619198</td>\n",
              "      <td>32085.718415</td>\n",
              "      <td>3044.765829</td>\n",
              "      <td>8.322476</td>\n",
              "      <td>3.098021</td>\n",
              "      <td>100.128746</td>\n",
              "      <td>2.303441</td>\n",
              "    </tr>\n",
              "    <tr>\n",
              "      <th>min</th>\n",
              "      <td>18.000000</td>\n",
              "      <td>0.000000</td>\n",
              "      <td>-8019.000000</td>\n",
              "      <td>1.000000</td>\n",
              "      <td>1.000000</td>\n",
              "      <td>-1.000000</td>\n",
              "      <td>0.000000</td>\n",
              "    </tr>\n",
              "    <tr>\n",
              "      <th>25%</th>\n",
              "      <td>33.000000</td>\n",
              "      <td>20000.000000</td>\n",
              "      <td>72.000000</td>\n",
              "      <td>8.000000</td>\n",
              "      <td>1.000000</td>\n",
              "      <td>-1.000000</td>\n",
              "      <td>0.000000</td>\n",
              "    </tr>\n",
              "    <tr>\n",
              "      <th>50%</th>\n",
              "      <td>39.000000</td>\n",
              "      <td>60000.000000</td>\n",
              "      <td>448.000000</td>\n",
              "      <td>16.000000</td>\n",
              "      <td>2.000000</td>\n",
              "      <td>-1.000000</td>\n",
              "      <td>0.000000</td>\n",
              "    </tr>\n",
              "    <tr>\n",
              "      <th>75%</th>\n",
              "      <td>48.000000</td>\n",
              "      <td>70000.000000</td>\n",
              "      <td>1428.000000</td>\n",
              "      <td>21.000000</td>\n",
              "      <td>3.000000</td>\n",
              "      <td>-1.000000</td>\n",
              "      <td>0.000000</td>\n",
              "    </tr>\n",
              "    <tr>\n",
              "      <th>max</th>\n",
              "      <td>95.000000</td>\n",
              "      <td>120000.000000</td>\n",
              "      <td>102127.000000</td>\n",
              "      <td>31.000000</td>\n",
              "      <td>63.000000</td>\n",
              "      <td>871.000000</td>\n",
              "      <td>275.000000</td>\n",
              "    </tr>\n",
              "  </tbody>\n",
              "</table>\n",
              "</div>"
            ],
            "text/plain": [
              "                age         salary        balance           day      campaign  \\\n",
              "count  45191.000000   45211.000000   45211.000000  45211.000000  45211.000000   \n",
              "mean      40.935651   57006.171065    1362.272058     15.806419      2.763841   \n",
              "std       10.619198   32085.718415    3044.765829      8.322476      3.098021   \n",
              "min       18.000000       0.000000   -8019.000000      1.000000      1.000000   \n",
              "25%       33.000000   20000.000000      72.000000      8.000000      1.000000   \n",
              "50%       39.000000   60000.000000     448.000000     16.000000      2.000000   \n",
              "75%       48.000000   70000.000000    1428.000000     21.000000      3.000000   \n",
              "max       95.000000  120000.000000  102127.000000     31.000000     63.000000   \n",
              "\n",
              "              pdays      previous  \n",
              "count  45211.000000  45211.000000  \n",
              "mean      40.197828      0.580323  \n",
              "std      100.128746      2.303441  \n",
              "min       -1.000000      0.000000  \n",
              "25%       -1.000000      0.000000  \n",
              "50%       -1.000000      0.000000  \n",
              "75%       -1.000000      0.000000  \n",
              "max      871.000000    275.000000  "
            ]
          },
          "execution_count": 35,
          "metadata": {},
          "output_type": "execute_result"
        }
      ],
      "source": [
        "inp.describe()"
      ]
    },
    {
      "cell_type": "code",
      "execution_count": null,
      "id": "db02c2d9-c691-43e3-be15-a27fded0ab91",
      "metadata": {
        "id": "db02c2d9-c691-43e3-be15-a27fded0ab91",
        "outputId": "f185cb6d-7b5e-49ae-fdac-d58a44ca45e5"
      },
      "outputs": [
        {
          "data": {
            "text/plain": [
              "count     45211.000000\n",
              "mean      57006.171065\n",
              "std       32085.718415\n",
              "min           0.000000\n",
              "25%       20000.000000\n",
              "50%       60000.000000\n",
              "75%       70000.000000\n",
              "max      120000.000000\n",
              "Name: salary, dtype: float64"
            ]
          },
          "execution_count": 36,
          "metadata": {},
          "output_type": "execute_result"
        }
      ],
      "source": [
        "inp.salary.describe()"
      ]
    },
    {
      "cell_type": "code",
      "execution_count": null,
      "id": "f6b44d1d-11d2-43fe-b1cc-0af80af089cc",
      "metadata": {
        "id": "f6b44d1d-11d2-43fe-b1cc-0af80af089cc"
      },
      "outputs": [],
      "source": []
    }
  ],
  "metadata": {
    "kernelspec": {
      "display_name": "Python 3 (ipykernel)",
      "language": "python",
      "name": "python3"
    },
    "language_info": {
      "codemirror_mode": {
        "name": "ipython",
        "version": 3
      },
      "file_extension": ".py",
      "mimetype": "text/x-python",
      "name": "python",
      "nbconvert_exporter": "python",
      "pygments_lexer": "ipython3",
      "version": "3.12.2"
    },
    "colab": {
      "provenance": [],
      "include_colab_link": true
    }
  },
  "nbformat": 4,
  "nbformat_minor": 5
}